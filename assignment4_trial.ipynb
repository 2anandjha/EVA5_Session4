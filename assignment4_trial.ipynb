{
  "nbformat": 4,
  "nbformat_minor": 0,
  "metadata": {
    "accelerator": "GPU",
    "colab": {
      "name": "assignment4_trial.ipynb",
      "provenance": [],
      "collapsed_sections": []
    },
    "kernelspec": {
      "display_name": "Python 3",
      "name": "python3"
    }
  },
  "cells": [
    {
      "cell_type": "code",
      "metadata": {
        "id": "L7V5-FZSZSV8"
      },
      "source": [
        "from __future__ import print_function\n",
        "import torch\n",
        "import torch.nn as nn\n",
        "import torch.nn.functional as F\n",
        "import torch.optim as optim\n",
        "from torchvision import datasets, transforms"
      ],
      "execution_count": null,
      "outputs": []
    },
    {
      "cell_type": "code",
      "metadata": {
        "id": "OtwJuyakZjge"
      },
      "source": [
        "class Net(nn.Module):\n",
        "  def __init__(self):\n",
        "    super(Net, self).__init__()\n",
        "    self.conv1=nn.Sequential(nn.Conv2d(1, 32, 7, padding=1),\n",
        "            nn.ReLU(),\n",
        "            nn.BatchNorm2d(32),\n",
        "            #nn.Conv2d(32, 32, 3, padding=1),\n",
        "            #nn.ReLU(),\n",
        "            #nn.BatchNorm2d(32),\n",
        "            #nn.Conv2d(32, 32, 3, stride=2, padding=1),\n",
        "            #nn.ReLU(),\n",
        "            #nn.BatchNorm2d(32),\n",
        "            nn.MaxPool2d(2, 2),\n",
        "            nn.Dropout(0.25) )\n",
        "    self.conv2=nn.Sequential(nn.Conv2d(32, 64, 1, padding=1),\n",
        "            nn.ReLU(),\n",
        "            nn.BatchNorm2d(64),\n",
        "            #nn.Conv2d(64, 64, 1, padding=1),\n",
        "            #nn.ReLU(),\n",
        "            #nn.BatchNorm2d(64),\n",
        "            #nn.Conv2d(64, 64, 1, stride=2, padding=1),\n",
        "            #nn.ReLU(),\n",
        "            #nn.BatchNorm2d(64),\n",
        "            #nn.MaxPool2d(2, 2),\n",
        "            nn.Dropout(0.25))\n",
        "    self.conv3 = nn.Sequential(\n",
        "            nn.Conv2d(64, 128, 1, padding=1),\n",
        "            nn.ReLU(),\n",
        "            nn.BatchNorm2d(128),\n",
        "            #nn.Conv2d(128, 128, 1, padding=1),\n",
        "            #nn.ReLU(),\n",
        "            #nn.Conv2d(128, 128, 1, stride=2,padding=1),\n",
        "            #nn.ReLU(),\n",
        "            #nn.MaxPool2d(2, 2),\n",
        "            nn.Dropout(0.25)\n",
        "            )\n",
        "    self.conv4 = nn.Sequential(\n",
        "            nn.Conv2d(128, 256, 1,padding=1),\n",
        "            nn.ReLU(),\n",
        "            #nn.Conv2d(256, 256, 3, padding=1),\n",
        "            #nn.ReLU(),\n",
        "            #nn.Conv2d(256, 256, 3, stride=2,padding=1),\n",
        "            #nn.ReLU(),\n",
        "            nn.BatchNorm2d(256),\n",
        "            #nn.MaxPool2d(2, 2),\n",
        "            nn.Dropout(0.25)\n",
        "            )\n",
        "    self.conv5 = nn.Sequential(\n",
        "            nn.Conv2d(256, 512,11, padding=1),\n",
        "            nn.ReLU(),\n",
        "            #nn.Conv2d(512, 512, 3, padding=1),\n",
        "            #nn.ReLU(),\n",
        "            #nn.Conv2d(512, 512, 3),\n",
        "            #nn.ReLU(),\n",
        "            #nn.BatchNorm2d(512),\n",
        "            #nn.MaxPool2d(2, 2),\n",
        "            nn.Dropout(0.25)\n",
        "            )\n",
        "    self.conv6 = nn.Sequential(\n",
        "            nn.Conv2d(512, 1024, 3),\n",
        "            #nn.ReLU(),\n",
        "            #nn.BatchNorm2d(1024),\n",
        "            #nn.MaxPool2d(2, 2),\n",
        "            #nn.Dropout(0.25)\n",
        "            )\n",
        "    self.conv7 = nn.Sequential(\n",
        "            nn.Conv2d(1024, 10, 3),\n",
        "            #nn.ReLU(),\n",
        "            #nn.BatchNorm2d(10),\n",
        "            #nn.MaxPool2d(2, 2),\n",
        "            #nn.Dropout(0.25)\n",
        "            )\n",
        "    self.gap = nn.Sequential(\n",
        "            nn.AvgPool2d(kernel_size=10))\n",
        "  def forward(self,x):\n",
        "      x = self.conv1(x)\n",
        "      x = self.conv2(x)\n",
        "      x = self.conv3(x)\n",
        "      #x = self.conv4(x)\n",
        "      #x = self.conv5(x)\n",
        "      #x = self.conv6(x)\n",
        "      #x = self.conv7(x)\n",
        "      x = self.gap(x)\n",
        "      x = x.view(x.size(0), -1)\n",
        "      x = F.log_softmax(x, dim=1)\n",
        "      return x\n",
        "\n",
        "    \n",
        "    \n",
        "\n",
        "    \n",
        "  \n",
        "  \n",
        "  \n",
        "        \n"
      ],
      "execution_count": null,
      "outputs": []
    },
    {
      "cell_type": "code",
      "metadata": {
        "colab": {
          "base_uri": "https://localhost:8080/"
        },
        "id": "FuAVbXEYcuN-",
        "outputId": "e513f12b-bfa7-43d0-ca96-40ea25192a8a"
      },
      "source": [
        "!pip install torchsummary\n",
        "from torchsummary import summary\n",
        "use_cuda = torch.cuda.is_available()\n",
        "device = torch.device(\"cuda\" if use_cuda else \"cpu\")\n",
        "model = Net().to(device)\n",
        "summary(model,input_size=(1, 28, 28))"
      ],
      "execution_count": null,
      "outputs": [
        {
          "output_type": "stream",
          "text": [
            "Requirement already satisfied: torchsummary in /usr/local/lib/python3.6/dist-packages (1.5.1)\n",
            "----------------------------------------------------------------\n",
            "        Layer (type)               Output Shape         Param #\n",
            "================================================================\n",
            "            Conv2d-1           [-1, 32, 24, 24]           1,600\n",
            "              ReLU-2           [-1, 32, 24, 24]               0\n",
            "       BatchNorm2d-3           [-1, 32, 24, 24]              64\n",
            "         MaxPool2d-4           [-1, 32, 12, 12]               0\n",
            "           Dropout-5           [-1, 32, 12, 12]               0\n",
            "            Conv2d-6           [-1, 64, 14, 14]           2,112\n",
            "              ReLU-7           [-1, 64, 14, 14]               0\n",
            "       BatchNorm2d-8           [-1, 64, 14, 14]             128\n",
            "           Dropout-9           [-1, 64, 14, 14]               0\n",
            "           Conv2d-10          [-1, 128, 16, 16]           8,320\n",
            "             ReLU-11          [-1, 128, 16, 16]               0\n",
            "      BatchNorm2d-12          [-1, 128, 16, 16]             256\n",
            "          Dropout-13          [-1, 128, 16, 16]               0\n",
            "        AvgPool2d-14            [-1, 128, 1, 1]               0\n",
            "================================================================\n",
            "Total params: 12,480\n",
            "Trainable params: 12,480\n",
            "Non-trainable params: 0\n",
            "----------------------------------------------------------------\n",
            "Input size (MB): 0.00\n",
            "Forward/backward pass size (MB): 1.88\n",
            "Params size (MB): 0.05\n",
            "Estimated Total Size (MB): 1.93\n",
            "----------------------------------------------------------------\n"
          ],
          "name": "stdout"
        }
      ]
    },
    {
      "cell_type": "code",
      "metadata": {
        "id": "vjG-vDSO41FG"
      },
      "source": [
        "torch.manual_seed(1)\n",
        "batch_size = 128\n",
        "\n",
        "kwargs = {'num_workers': 1, 'pin_memory': True} if use_cuda else {}\n",
        "train_loader = torch.utils.data.DataLoader(\n",
        "    datasets.MNIST('../data', train=True, download=True,\n",
        "                    transform=transforms.Compose([\n",
        "                        transforms.ToTensor(),\n",
        "                        transforms.Normalize((0.1307,), (0.3081,))\n",
        "                    ])),\n",
        "    batch_size=batch_size, shuffle=True, **kwargs)\n",
        "test_loader = torch.utils.data.DataLoader(\n",
        "    datasets.MNIST('../data', train=False, transform=transforms.Compose([\n",
        "                        transforms.ToTensor(),\n",
        "                        transforms.Normalize((0.1307,), (0.3081,))\n",
        "                    ])),\n",
        "    batch_size=batch_size, shuffle=True, **kwargs)"
      ],
      "execution_count": null,
      "outputs": []
    },
    {
      "cell_type": "code",
      "metadata": {
        "id": "CCbGOmp547jd"
      },
      "source": [
        "from tqdm import tqdm\n",
        "def train(model, device, train_loader, optimizer, epoch):\n",
        "    model.train()\n",
        "    pbar = tqdm(train_loader)\n",
        "    for batch_idx, (data, target) in enumerate(pbar):\n",
        "        data, target = data.to(device), target.to(device)\n",
        "        optimizer.zero_grad()\n",
        "        output = model(data)\n",
        "        loss = F.nll_loss(output, target)\n",
        "        loss.backward()\n",
        "        optimizer.step()\n",
        "        pbar.set_description(desc= f'loss={loss.item()} batch_id={batch_idx}')\n",
        "\n",
        "\n",
        "def test(model, device, test_loader):\n",
        "    model.eval()\n",
        "    test_loss = 0\n",
        "    correct = 0\n",
        "    with torch.no_grad():\n",
        "        for data, target in test_loader:\n",
        "            data, target = data.to(device), target.to(device)\n",
        "            output = model(data)\n",
        "            test_loss += F.nll_loss(output, target, reduction='sum').item()  # sum up batch loss\n",
        "            pred = output.argmax(dim=1, keepdim=True)  # get the index of the max log-probability\n",
        "            correct += pred.eq(target.view_as(pred)).sum().item()\n",
        "\n",
        "    test_loss /= len(test_loader.dataset)\n",
        "\n",
        "    print('\\nTest set: Average loss: {:.4f}, Accuracy: {}/{} ({:.0f}%)\\n'.format(\n",
        "        test_loss, correct, len(test_loader.dataset),\n",
        "        100. * correct / len(test_loader.dataset)))"
      ],
      "execution_count": null,
      "outputs": []
    },
    {
      "cell_type": "code",
      "metadata": {
        "colab": {
          "base_uri": "https://localhost:8080/"
        },
        "id": "8T4bVxhE5CSk",
        "outputId": "4581cd37-4d88-4b63-c9e9-ea6ab25ce6cf"
      },
      "source": [
        "\n",
        "model = Net().to(device)\n",
        "optimizer = optim.SGD(model.parameters(), lr=0.01, momentum=0.9)\n",
        "\n",
        "for epoch in range(1, 18):\n",
        "    train(model, device, train_loader, optimizer, epoch)\n",
        "    test(model, device, test_loader)"
      ],
      "execution_count": null,
      "outputs": [
        {
          "output_type": "stream",
          "text": [
            "loss=1.502418875694275 batch_id=468: 100%|██████████| 469/469 [00:13<00:00, 33.74it/s]\n",
            "  0%|          | 0/469 [00:00<?, ?it/s]"
          ],
          "name": "stderr"
        },
        {
          "output_type": "stream",
          "text": [
            "\n",
            "Test set: Average loss: 1.1945, Accuracy: 8198/10000 (82%)\n",
            "\n"
          ],
          "name": "stdout"
        },
        {
          "output_type": "stream",
          "text": [
            "loss=0.7466933131217957 batch_id=468: 100%|██████████| 469/469 [00:13<00:00, 33.81it/s]\n",
            "  0%|          | 0/469 [00:00<?, ?it/s]"
          ],
          "name": "stderr"
        },
        {
          "output_type": "stream",
          "text": [
            "\n",
            "Test set: Average loss: 0.6038, Accuracy: 9041/10000 (90%)\n",
            "\n"
          ],
          "name": "stdout"
        },
        {
          "output_type": "stream",
          "text": [
            "loss=0.6743500232696533 batch_id=468: 100%|██████████| 469/469 [00:13<00:00, 33.55it/s]\n",
            "  0%|          | 0/469 [00:00<?, ?it/s]"
          ],
          "name": "stderr"
        },
        {
          "output_type": "stream",
          "text": [
            "\n",
            "Test set: Average loss: 0.4227, Accuracy: 9219/10000 (92%)\n",
            "\n"
          ],
          "name": "stdout"
        },
        {
          "output_type": "stream",
          "text": [
            "loss=0.57504802942276 batch_id=468: 100%|██████████| 469/469 [00:13<00:00, 33.79it/s]\n",
            "  0%|          | 0/469 [00:00<?, ?it/s]"
          ],
          "name": "stderr"
        },
        {
          "output_type": "stream",
          "text": [
            "\n",
            "Test set: Average loss: 0.3346, Accuracy: 9344/10000 (93%)\n",
            "\n"
          ],
          "name": "stdout"
        },
        {
          "output_type": "stream",
          "text": [
            "loss=0.6748788952827454 batch_id=468: 100%|██████████| 469/469 [00:13<00:00, 33.85it/s]\n",
            "  0%|          | 0/469 [00:00<?, ?it/s]"
          ],
          "name": "stderr"
        },
        {
          "output_type": "stream",
          "text": [
            "\n",
            "Test set: Average loss: 0.3008, Accuracy: 9392/10000 (94%)\n",
            "\n"
          ],
          "name": "stdout"
        },
        {
          "output_type": "stream",
          "text": [
            "loss=0.5763193964958191 batch_id=468: 100%|██████████| 469/469 [00:13<00:00, 33.69it/s]\n",
            "  0%|          | 0/469 [00:00<?, ?it/s]"
          ],
          "name": "stderr"
        },
        {
          "output_type": "stream",
          "text": [
            "\n",
            "Test set: Average loss: 0.2793, Accuracy: 9373/10000 (94%)\n",
            "\n"
          ],
          "name": "stdout"
        },
        {
          "output_type": "stream",
          "text": [
            "loss=0.32023099064826965 batch_id=468: 100%|██████████| 469/469 [00:13<00:00, 33.89it/s]\n",
            "  0%|          | 0/469 [00:00<?, ?it/s]"
          ],
          "name": "stderr"
        },
        {
          "output_type": "stream",
          "text": [
            "\n",
            "Test set: Average loss: 0.2411, Accuracy: 9486/10000 (95%)\n",
            "\n"
          ],
          "name": "stdout"
        },
        {
          "output_type": "stream",
          "text": [
            "loss=0.2780096232891083 batch_id=468: 100%|██████████| 469/469 [00:14<00:00, 33.06it/s]\n",
            "  0%|          | 0/469 [00:00<?, ?it/s]"
          ],
          "name": "stderr"
        },
        {
          "output_type": "stream",
          "text": [
            "\n",
            "Test set: Average loss: 0.2322, Accuracy: 9439/10000 (94%)\n",
            "\n"
          ],
          "name": "stdout"
        },
        {
          "output_type": "stream",
          "text": [
            "loss=0.2826903164386749 batch_id=468: 100%|██████████| 469/469 [00:13<00:00, 33.99it/s]\n",
            "  0%|          | 0/469 [00:00<?, ?it/s]"
          ],
          "name": "stderr"
        },
        {
          "output_type": "stream",
          "text": [
            "\n",
            "Test set: Average loss: 0.2215, Accuracy: 9466/10000 (95%)\n",
            "\n"
          ],
          "name": "stdout"
        },
        {
          "output_type": "stream",
          "text": [
            "loss=0.35040271282196045 batch_id=468: 100%|██████████| 469/469 [00:13<00:00, 34.19it/s]\n",
            "  0%|          | 0/469 [00:00<?, ?it/s]"
          ],
          "name": "stderr"
        },
        {
          "output_type": "stream",
          "text": [
            "\n",
            "Test set: Average loss: 0.2115, Accuracy: 9514/10000 (95%)\n",
            "\n"
          ],
          "name": "stdout"
        },
        {
          "output_type": "stream",
          "text": [
            "loss=0.3215222954750061 batch_id=468: 100%|██████████| 469/469 [00:13<00:00, 34.19it/s]\n",
            "  0%|          | 0/469 [00:00<?, ?it/s]"
          ],
          "name": "stderr"
        },
        {
          "output_type": "stream",
          "text": [
            "\n",
            "Test set: Average loss: 0.1940, Accuracy: 9545/10000 (95%)\n",
            "\n"
          ],
          "name": "stdout"
        },
        {
          "output_type": "stream",
          "text": [
            "loss=0.31330299377441406 batch_id=468: 100%|██████████| 469/469 [00:13<00:00, 33.98it/s]\n",
            "  0%|          | 0/469 [00:00<?, ?it/s]"
          ],
          "name": "stderr"
        },
        {
          "output_type": "stream",
          "text": [
            "\n",
            "Test set: Average loss: 0.1867, Accuracy: 9560/10000 (96%)\n",
            "\n"
          ],
          "name": "stdout"
        },
        {
          "output_type": "stream",
          "text": [
            "loss=0.3011602461338043 batch_id=468: 100%|██████████| 469/469 [00:14<00:00, 33.23it/s]\n",
            "  0%|          | 0/469 [00:00<?, ?it/s]"
          ],
          "name": "stderr"
        },
        {
          "output_type": "stream",
          "text": [
            "\n",
            "Test set: Average loss: 0.1840, Accuracy: 9543/10000 (95%)\n",
            "\n"
          ],
          "name": "stdout"
        },
        {
          "output_type": "stream",
          "text": [
            "loss=0.45931002497673035 batch_id=468: 100%|██████████| 469/469 [00:14<00:00, 33.19it/s]\n",
            "  0%|          | 0/469 [00:00<?, ?it/s]"
          ],
          "name": "stderr"
        },
        {
          "output_type": "stream",
          "text": [
            "\n",
            "Test set: Average loss: 0.1728, Accuracy: 9584/10000 (96%)\n",
            "\n"
          ],
          "name": "stdout"
        },
        {
          "output_type": "stream",
          "text": [
            "loss=0.3365444242954254 batch_id=468: 100%|██████████| 469/469 [00:13<00:00, 33.94it/s]\n",
            "  0%|          | 0/469 [00:00<?, ?it/s]"
          ],
          "name": "stderr"
        },
        {
          "output_type": "stream",
          "text": [
            "\n",
            "Test set: Average loss: 0.1718, Accuracy: 9580/10000 (96%)\n",
            "\n"
          ],
          "name": "stdout"
        },
        {
          "output_type": "stream",
          "text": [
            "loss=0.38735607266426086 batch_id=468: 100%|██████████| 469/469 [00:13<00:00, 34.07it/s]\n",
            "  0%|          | 0/469 [00:00<?, ?it/s]"
          ],
          "name": "stderr"
        },
        {
          "output_type": "stream",
          "text": [
            "\n",
            "Test set: Average loss: 0.1641, Accuracy: 9599/10000 (96%)\n",
            "\n"
          ],
          "name": "stdout"
        },
        {
          "output_type": "stream",
          "text": [
            "loss=0.3676603138446808 batch_id=468: 100%|██████████| 469/469 [00:13<00:00, 33.97it/s]\n"
          ],
          "name": "stderr"
        },
        {
          "output_type": "stream",
          "text": [
            "\n",
            "Test set: Average loss: 0.1632, Accuracy: 9579/10000 (96%)\n",
            "\n"
          ],
          "name": "stdout"
        }
      ]
    }
  ]
}